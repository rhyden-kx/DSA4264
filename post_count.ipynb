{
 "cells": [
  {
   "cell_type": "code",
   "execution_count": 10,
   "metadata": {},
   "outputs": [],
   "source": [
    "import pandas as pd"
   ]
  },
  {
   "cell_type": "markdown",
   "metadata": {},
   "source": [
    "# Read in data"
   ]
  },
  {
   "cell_type": "code",
   "execution_count": 11,
   "metadata": {},
   "outputs": [
    {
     "data": {
      "text/html": [
       "<div>\n",
       "<style scoped>\n",
       "    .dataframe tbody tr th:only-of-type {\n",
       "        vertical-align: middle;\n",
       "    }\n",
       "\n",
       "    .dataframe tbody tr th {\n",
       "        vertical-align: top;\n",
       "    }\n",
       "\n",
       "    .dataframe thead th {\n",
       "        text-align: right;\n",
       "    }\n",
       "</style>\n",
       "<table border=\"1\" class=\"dataframe\">\n",
       "  <thead>\n",
       "    <tr style=\"text-align: right;\">\n",
       "      <th></th>\n",
       "      <th>text</th>\n",
       "      <th>timestamp</th>\n",
       "      <th>username</th>\n",
       "      <th>link</th>\n",
       "      <th>link_id</th>\n",
       "      <th>parent_id</th>\n",
       "      <th>id</th>\n",
       "      <th>subreddit_id</th>\n",
       "      <th>moderation</th>\n",
       "    </tr>\n",
       "  </thead>\n",
       "  <tbody>\n",
       "    <tr>\n",
       "      <th>0</th>\n",
       "      <td>i think most singaporeans dont give a damn who...</td>\n",
       "      <td>2020-04-11 15:49:23</td>\n",
       "      <td>invigo79</td>\n",
       "      <td>/r/singapore/comments/fz7vtl/im_quite_interest...</td>\n",
       "      <td>t3_fz7vtl</td>\n",
       "      <td>t3_fz7vtl</td>\n",
       "      <td>fn3gbrg</td>\n",
       "      <td>t5_2qh8c</td>\n",
       "      <td>{'removal_reason': None, 'collapsed': False, '...</td>\n",
       "    </tr>\n",
       "    <tr>\n",
       "      <th>1</th>\n",
       "      <td>fair point the secrecy aspect of it slipped my...</td>\n",
       "      <td>2020-04-03 09:59:08</td>\n",
       "      <td>potatetoe_tractor</td>\n",
       "      <td>/r/singapore/comments/fu3axm/government_to_tab...</td>\n",
       "      <td>t3_fu3axm</td>\n",
       "      <td>t1_fmasya5</td>\n",
       "      <td>fmau5k3</td>\n",
       "      <td>t5_2qh8c</td>\n",
       "      <td>{'removal_reason': None, 'collapsed': False, '...</td>\n",
       "    </tr>\n",
       "    <tr>\n",
       "      <th>2</th>\n",
       "      <td>range</td>\n",
       "      <td>2020-02-15 15:07:03</td>\n",
       "      <td>CrossfittJesus</td>\n",
       "      <td>/r/singapore/comments/f4ac70/what_is_ps_defens...</td>\n",
       "      <td>t3_f4ac70</td>\n",
       "      <td>t3_f4ac70</td>\n",
       "      <td>fhp05xc</td>\n",
       "      <td>t5_2qh8c</td>\n",
       "      <td>{'removal_reason': None, 'collapsed': False, '...</td>\n",
       "    </tr>\n",
       "    <tr>\n",
       "      <th>3</th>\n",
       "      <td>gt this is binary thinking because you think t...</td>\n",
       "      <td>2020-06-04 07:07:39</td>\n",
       "      <td>nomad80</td>\n",
       "      <td>/r/singapore/comments/gw55cx/notoracism/fsu4fyd/</td>\n",
       "      <td>t3_gw55cx</td>\n",
       "      <td>t1_fsu3dsf</td>\n",
       "      <td>fsu4fyd</td>\n",
       "      <td>t5_2qh8c</td>\n",
       "      <td>{'removal_reason': None, 'collapsed': False, '...</td>\n",
       "    </tr>\n",
       "    <tr>\n",
       "      <th>4</th>\n",
       "      <td>boo boo poor u lmao</td>\n",
       "      <td>2020-10-31 13:52:12</td>\n",
       "      <td>pirorok</td>\n",
       "      <td>/r/singapore/comments/jl6abo/rsingapore_random...</td>\n",
       "      <td>t3_jl6abo</td>\n",
       "      <td>t1_gap4e9y</td>\n",
       "      <td>gap4vkl</td>\n",
       "      <td>t5_2qh8c</td>\n",
       "      <td>{'removal_reason': None, 'collapsed': False, '...</td>\n",
       "    </tr>\n",
       "    <tr>\n",
       "      <th>...</th>\n",
       "      <td>...</td>\n",
       "      <td>...</td>\n",
       "      <td>...</td>\n",
       "      <td>...</td>\n",
       "      <td>...</td>\n",
       "      <td>...</td>\n",
       "      <td>...</td>\n",
       "      <td>...</td>\n",
       "      <td>...</td>\n",
       "    </tr>\n",
       "    <tr>\n",
       "      <th>396293</th>\n",
       "      <td>gt what are they gonna force people to purchas...</td>\n",
       "      <td>2022-08-23 04:42:04</td>\n",
       "      <td>bullno1</td>\n",
       "      <td>/r/singapore/comments/wux9p2/section_377a_mini...</td>\n",
       "      <td>t3_wux9p2</td>\n",
       "      <td>t1_ilcinzf</td>\n",
       "      <td>ilf1evi</td>\n",
       "      <td>t5_2qh8c</td>\n",
       "      <td>{'controversiality': 0, 'collapsed_reason_code...</td>\n",
       "    </tr>\n",
       "    <tr>\n",
       "      <th>396294</th>\n",
       "      <td>you did what you could he just needs to grow up</td>\n",
       "      <td>2022-04-09 02:44:52</td>\n",
       "      <td>Pvt_Twinkietoes</td>\n",
       "      <td>/r/singapore/comments/tzegvu/rsingapore_random...</td>\n",
       "      <td>t3_tzegvu</td>\n",
       "      <td>t1_i3zj3bm</td>\n",
       "      <td>i3zjpnf</td>\n",
       "      <td>t5_2qh8c</td>\n",
       "      <td>{'controversiality': 0, 'collapsed_reason_code...</td>\n",
       "    </tr>\n",
       "    <tr>\n",
       "      <th>396295</th>\n",
       "      <td>indeed\\n\\nsame bickering on adult level</td>\n",
       "      <td>2022-01-11 08:46:34</td>\n",
       "      <td>burncig</td>\n",
       "      <td>/r/singapore/comments/s184kd/psps_leong_mun_wa...</td>\n",
       "      <td>t3_s184kd</td>\n",
       "      <td>t1_hs6nhfq</td>\n",
       "      <td>hs6oc6n</td>\n",
       "      <td>t5_2qh8c</td>\n",
       "      <td>{'controversiality': 0, 'collapsed_reason_code...</td>\n",
       "    </tr>\n",
       "    <tr>\n",
       "      <th>396296</th>\n",
       "      <td>thats all kids tbh depending on the age theyre...</td>\n",
       "      <td>2022-07-26 10:32:05</td>\n",
       "      <td>Boogie_p0p</td>\n",
       "      <td>/r/singapore/comments/w81l82/rsingapore_random...</td>\n",
       "      <td>t3_w81l82</td>\n",
       "      <td>t1_ihowm0f</td>\n",
       "      <td>ihp4ykd</td>\n",
       "      <td>t5_2qh8c</td>\n",
       "      <td>{'controversiality': 0, 'collapsed_reason_code...</td>\n",
       "    </tr>\n",
       "    <tr>\n",
       "      <th>396297</th>\n",
       "      <td>lianhua is propagated by the chinese governmen...</td>\n",
       "      <td>2022-03-21 02:43:55</td>\n",
       "      <td>rammingfarts</td>\n",
       "      <td>/r/singapore/comments/tiw1t8/rsingapore_random...</td>\n",
       "      <td>t3_tiw1t8</td>\n",
       "      <td>t1_i1hd9ie</td>\n",
       "      <td>i1hghen</td>\n",
       "      <td>t5_2qh8c</td>\n",
       "      <td>{'controversiality': 0, 'collapsed_reason_code...</td>\n",
       "    </tr>\n",
       "  </tbody>\n",
       "</table>\n",
       "<p>396298 rows × 9 columns</p>\n",
       "</div>"
      ],
      "text/plain": [
       "                                                     text  \\\n",
       "0       i think most singaporeans dont give a damn who...   \n",
       "1       fair point the secrecy aspect of it slipped my...   \n",
       "2                                                   range   \n",
       "3       gt this is binary thinking because you think t...   \n",
       "4                                     boo boo poor u lmao   \n",
       "...                                                   ...   \n",
       "396293  gt what are they gonna force people to purchas...   \n",
       "396294    you did what you could he just needs to grow up   \n",
       "396295            indeed\\n\\nsame bickering on adult level   \n",
       "396296  thats all kids tbh depending on the age theyre...   \n",
       "396297  lianhua is propagated by the chinese governmen...   \n",
       "\n",
       "                  timestamp           username  \\\n",
       "0       2020-04-11 15:49:23           invigo79   \n",
       "1       2020-04-03 09:59:08  potatetoe_tractor   \n",
       "2       2020-02-15 15:07:03     CrossfittJesus   \n",
       "3       2020-06-04 07:07:39            nomad80   \n",
       "4       2020-10-31 13:52:12            pirorok   \n",
       "...                     ...                ...   \n",
       "396293  2022-08-23 04:42:04            bullno1   \n",
       "396294  2022-04-09 02:44:52    Pvt_Twinkietoes   \n",
       "396295  2022-01-11 08:46:34            burncig   \n",
       "396296  2022-07-26 10:32:05         Boogie_p0p   \n",
       "396297  2022-03-21 02:43:55       rammingfarts   \n",
       "\n",
       "                                                     link    link_id  \\\n",
       "0       /r/singapore/comments/fz7vtl/im_quite_interest...  t3_fz7vtl   \n",
       "1       /r/singapore/comments/fu3axm/government_to_tab...  t3_fu3axm   \n",
       "2       /r/singapore/comments/f4ac70/what_is_ps_defens...  t3_f4ac70   \n",
       "3        /r/singapore/comments/gw55cx/notoracism/fsu4fyd/  t3_gw55cx   \n",
       "4       /r/singapore/comments/jl6abo/rsingapore_random...  t3_jl6abo   \n",
       "...                                                   ...        ...   \n",
       "396293  /r/singapore/comments/wux9p2/section_377a_mini...  t3_wux9p2   \n",
       "396294  /r/singapore/comments/tzegvu/rsingapore_random...  t3_tzegvu   \n",
       "396295  /r/singapore/comments/s184kd/psps_leong_mun_wa...  t3_s184kd   \n",
       "396296  /r/singapore/comments/w81l82/rsingapore_random...  t3_w81l82   \n",
       "396297  /r/singapore/comments/tiw1t8/rsingapore_random...  t3_tiw1t8   \n",
       "\n",
       "         parent_id       id subreddit_id  \\\n",
       "0        t3_fz7vtl  fn3gbrg     t5_2qh8c   \n",
       "1       t1_fmasya5  fmau5k3     t5_2qh8c   \n",
       "2        t3_f4ac70  fhp05xc     t5_2qh8c   \n",
       "3       t1_fsu3dsf  fsu4fyd     t5_2qh8c   \n",
       "4       t1_gap4e9y  gap4vkl     t5_2qh8c   \n",
       "...            ...      ...          ...   \n",
       "396293  t1_ilcinzf  ilf1evi     t5_2qh8c   \n",
       "396294  t1_i3zj3bm  i3zjpnf     t5_2qh8c   \n",
       "396295  t1_hs6nhfq  hs6oc6n     t5_2qh8c   \n",
       "396296  t1_ihowm0f  ihp4ykd     t5_2qh8c   \n",
       "396297  t1_i1hd9ie  i1hghen     t5_2qh8c   \n",
       "\n",
       "                                               moderation  \n",
       "0       {'removal_reason': None, 'collapsed': False, '...  \n",
       "1       {'removal_reason': None, 'collapsed': False, '...  \n",
       "2       {'removal_reason': None, 'collapsed': False, '...  \n",
       "3       {'removal_reason': None, 'collapsed': False, '...  \n",
       "4       {'removal_reason': None, 'collapsed': False, '...  \n",
       "...                                                   ...  \n",
       "396293  {'controversiality': 0, 'collapsed_reason_code...  \n",
       "396294  {'controversiality': 0, 'collapsed_reason_code...  \n",
       "396295  {'controversiality': 0, 'collapsed_reason_code...  \n",
       "396296  {'controversiality': 0, 'collapsed_reason_code...  \n",
       "396297  {'controversiality': 0, 'collapsed_reason_code...  \n",
       "\n",
       "[396298 rows x 9 columns]"
      ]
     },
     "execution_count": 11,
     "metadata": {},
     "output_type": "execute_result"
    }
   ],
   "source": [
    "df = pd.read_csv('data/combined_cleaned_500k.csv')\n",
    "df"
   ]
  },
  {
   "cell_type": "markdown",
   "metadata": {},
   "source": [
    "a closer look at some links from each of the subreddits"
   ]
  },
  {
   "cell_type": "code",
   "execution_count": 109,
   "metadata": {},
   "outputs": [
    {
     "name": "stdout",
     "output_type": "stream",
     "text": [
      "/r/singapore/comments/fz7vtl/im_quite_interested_to_know_why_so_many/fn3gbrg/\n",
      "/r/SingaporeRaw/comments/ofac8p/indian_government_there_are_650000_indians_in/h4d6tcs/\n",
      "/r/singaporehappenings/comments/15p8ltg/singapore/jw3ory7/\n"
     ]
    }
   ],
   "source": [
    "sg = df[df['link'].str.startswith('/r/singapore')].reset_index(drop=True)\n",
    "print(sg['link'][0])\n",
    "sgraw = df[df['link'].str.startswith('/r/SingaporeRaw')].reset_index(drop=True)\n",
    "print(sgraw['link'][0])\n",
    "sghap = df[df['link'].str.startswith('/r/singaporehappenings')].reset_index(drop=True)\n",
    "print(sghap['link'][0])"
   ]
  },
  {
   "cell_type": "markdown",
   "metadata": {},
   "source": [
    "# Rank by number of comments in each post"
   ]
  },
  {
   "cell_type": "code",
   "execution_count": 97,
   "metadata": {},
   "outputs": [
    {
     "data": {
      "text/html": [
       "<div>\n",
       "<style scoped>\n",
       "    .dataframe tbody tr th:only-of-type {\n",
       "        vertical-align: middle;\n",
       "    }\n",
       "\n",
       "    .dataframe tbody tr th {\n",
       "        vertical-align: top;\n",
       "    }\n",
       "\n",
       "    .dataframe thead th {\n",
       "        text-align: right;\n",
       "    }\n",
       "</style>\n",
       "<table border=\"1\" class=\"dataframe\">\n",
       "  <thead>\n",
       "    <tr style=\"text-align: right;\">\n",
       "      <th></th>\n",
       "      <th>text</th>\n",
       "      <th>timestamp</th>\n",
       "      <th>username</th>\n",
       "      <th>link</th>\n",
       "      <th>link_id</th>\n",
       "      <th>parent_id</th>\n",
       "      <th>id</th>\n",
       "      <th>subreddit_id</th>\n",
       "      <th>moderation</th>\n",
       "      <th>post</th>\n",
       "      <th>title</th>\n",
       "    </tr>\n",
       "  </thead>\n",
       "  <tbody>\n",
       "    <tr>\n",
       "      <th>0</th>\n",
       "      <td>i think most singaporeans dont give a damn who...</td>\n",
       "      <td>2020-04-11 15:49:23</td>\n",
       "      <td>invigo79</td>\n",
       "      <td>/r/singapore/comments/fz7vtl/im_quite_interest...</td>\n",
       "      <td>t3_fz7vtl</td>\n",
       "      <td>t3_fz7vtl</td>\n",
       "      <td>fn3gbrg</td>\n",
       "      <td>t5_2qh8c</td>\n",
       "      <td>{'removal_reason': None, 'collapsed': False, '...</td>\n",
       "      <td>singapore,fz7vtl,im_quite_interested_to_know_w...</td>\n",
       "      <td>im_quite_interested_to_know_why_so_many</td>\n",
       "    </tr>\n",
       "    <tr>\n",
       "      <th>1</th>\n",
       "      <td>fair point the secrecy aspect of it slipped my...</td>\n",
       "      <td>2020-04-03 09:59:08</td>\n",
       "      <td>potatetoe_tractor</td>\n",
       "      <td>/r/singapore/comments/fu3axm/government_to_tab...</td>\n",
       "      <td>t3_fu3axm</td>\n",
       "      <td>t1_fmasya5</td>\n",
       "      <td>fmau5k3</td>\n",
       "      <td>t5_2qh8c</td>\n",
       "      <td>{'removal_reason': None, 'collapsed': False, '...</td>\n",
       "      <td>singapore,fu3axm,government_to_table_bill_to_e...</td>\n",
       "      <td>government_to_table_bill_to_ensure_safe_general</td>\n",
       "    </tr>\n",
       "    <tr>\n",
       "      <th>2</th>\n",
       "      <td>range</td>\n",
       "      <td>2020-02-15 15:07:03</td>\n",
       "      <td>CrossfittJesus</td>\n",
       "      <td>/r/singapore/comments/f4ac70/what_is_ps_defens...</td>\n",
       "      <td>t3_f4ac70</td>\n",
       "      <td>t3_f4ac70</td>\n",
       "      <td>fhp05xc</td>\n",
       "      <td>t5_2qh8c</td>\n",
       "      <td>{'removal_reason': None, 'collapsed': False, '...</td>\n",
       "      <td>singapore,f4ac70,what_is_ps_defense_imprest</td>\n",
       "      <td>what_is_ps_defense_imprest</td>\n",
       "    </tr>\n",
       "    <tr>\n",
       "      <th>3</th>\n",
       "      <td>gt this is binary thinking because you think t...</td>\n",
       "      <td>2020-06-04 07:07:39</td>\n",
       "      <td>nomad80</td>\n",
       "      <td>/r/singapore/comments/gw55cx/notoracism/fsu4fyd/</td>\n",
       "      <td>t3_gw55cx</td>\n",
       "      <td>t1_fsu3dsf</td>\n",
       "      <td>fsu4fyd</td>\n",
       "      <td>t5_2qh8c</td>\n",
       "      <td>{'removal_reason': None, 'collapsed': False, '...</td>\n",
       "      <td>singapore,gw55cx,notoracism</td>\n",
       "      <td>notoracism</td>\n",
       "    </tr>\n",
       "    <tr>\n",
       "      <th>4</th>\n",
       "      <td>boo boo poor u lmao</td>\n",
       "      <td>2020-10-31 13:52:12</td>\n",
       "      <td>pirorok</td>\n",
       "      <td>/r/singapore/comments/jl6abo/rsingapore_random...</td>\n",
       "      <td>t3_jl6abo</td>\n",
       "      <td>t1_gap4e9y</td>\n",
       "      <td>gap4vkl</td>\n",
       "      <td>t5_2qh8c</td>\n",
       "      <td>{'removal_reason': None, 'collapsed': False, '...</td>\n",
       "      <td>singapore,jl6abo,rsingapore_random_discussion_...</td>\n",
       "      <td>rsingapore_random_discussion_and_small_questions</td>\n",
       "    </tr>\n",
       "    <tr>\n",
       "      <th>...</th>\n",
       "      <td>...</td>\n",
       "      <td>...</td>\n",
       "      <td>...</td>\n",
       "      <td>...</td>\n",
       "      <td>...</td>\n",
       "      <td>...</td>\n",
       "      <td>...</td>\n",
       "      <td>...</td>\n",
       "      <td>...</td>\n",
       "      <td>...</td>\n",
       "      <td>...</td>\n",
       "    </tr>\n",
       "    <tr>\n",
       "      <th>396293</th>\n",
       "      <td>gt what are they gonna force people to purchas...</td>\n",
       "      <td>2022-08-23 04:42:04</td>\n",
       "      <td>bullno1</td>\n",
       "      <td>/r/singapore/comments/wux9p2/section_377a_mini...</td>\n",
       "      <td>t3_wux9p2</td>\n",
       "      <td>t1_ilcinzf</td>\n",
       "      <td>ilf1evi</td>\n",
       "      <td>t5_2qh8c</td>\n",
       "      <td>{'controversiality': 0, 'collapsed_reason_code...</td>\n",
       "      <td>singapore,wux9p2,section_377a_ministries_looki...</td>\n",
       "      <td>section_377a_ministries_looking_at_ways_to_deal</td>\n",
       "    </tr>\n",
       "    <tr>\n",
       "      <th>396294</th>\n",
       "      <td>you did what you could he just needs to grow up</td>\n",
       "      <td>2022-04-09 02:44:52</td>\n",
       "      <td>Pvt_Twinkietoes</td>\n",
       "      <td>/r/singapore/comments/tzegvu/rsingapore_random...</td>\n",
       "      <td>t3_tzegvu</td>\n",
       "      <td>t1_i3zj3bm</td>\n",
       "      <td>i3zjpnf</td>\n",
       "      <td>t5_2qh8c</td>\n",
       "      <td>{'controversiality': 0, 'collapsed_reason_code...</td>\n",
       "      <td>singapore,tzegvu,rsingapore_random_discussion_...</td>\n",
       "      <td>rsingapore_random_discussion_and_small_questions</td>\n",
       "    </tr>\n",
       "    <tr>\n",
       "      <th>396295</th>\n",
       "      <td>indeed\\n\\nsame bickering on adult level</td>\n",
       "      <td>2022-01-11 08:46:34</td>\n",
       "      <td>burncig</td>\n",
       "      <td>/r/singapore/comments/s184kd/psps_leong_mun_wa...</td>\n",
       "      <td>t3_s184kd</td>\n",
       "      <td>t1_hs6nhfq</td>\n",
       "      <td>hs6oc6n</td>\n",
       "      <td>t5_2qh8c</td>\n",
       "      <td>{'controversiality': 0, 'collapsed_reason_code...</td>\n",
       "      <td>singapore,s184kd,psps_leong_mun_wai_should_be_...</td>\n",
       "      <td>psps_leong_mun_wai_should_be_responsible</td>\n",
       "    </tr>\n",
       "    <tr>\n",
       "      <th>396296</th>\n",
       "      <td>thats all kids tbh depending on the age theyre...</td>\n",
       "      <td>2022-07-26 10:32:05</td>\n",
       "      <td>Boogie_p0p</td>\n",
       "      <td>/r/singapore/comments/w81l82/rsingapore_random...</td>\n",
       "      <td>t3_w81l82</td>\n",
       "      <td>t1_ihowm0f</td>\n",
       "      <td>ihp4ykd</td>\n",
       "      <td>t5_2qh8c</td>\n",
       "      <td>{'controversiality': 0, 'collapsed_reason_code...</td>\n",
       "      <td>singapore,w81l82,rsingapore_random_discussion_...</td>\n",
       "      <td>rsingapore_random_discussion_and_small_questions</td>\n",
       "    </tr>\n",
       "    <tr>\n",
       "      <th>396297</th>\n",
       "      <td>lianhua is propagated by the chinese governmen...</td>\n",
       "      <td>2022-03-21 02:43:55</td>\n",
       "      <td>rammingfarts</td>\n",
       "      <td>/r/singapore/comments/tiw1t8/rsingapore_random...</td>\n",
       "      <td>t3_tiw1t8</td>\n",
       "      <td>t1_i1hd9ie</td>\n",
       "      <td>i1hghen</td>\n",
       "      <td>t5_2qh8c</td>\n",
       "      <td>{'controversiality': 0, 'collapsed_reason_code...</td>\n",
       "      <td>singapore,tiw1t8,rsingapore_random_discussion_...</td>\n",
       "      <td>rsingapore_random_discussion_and_small_questions</td>\n",
       "    </tr>\n",
       "  </tbody>\n",
       "</table>\n",
       "<p>396298 rows × 11 columns</p>\n",
       "</div>"
      ],
      "text/plain": [
       "                                                     text  \\\n",
       "0       i think most singaporeans dont give a damn who...   \n",
       "1       fair point the secrecy aspect of it slipped my...   \n",
       "2                                                   range   \n",
       "3       gt this is binary thinking because you think t...   \n",
       "4                                     boo boo poor u lmao   \n",
       "...                                                   ...   \n",
       "396293  gt what are they gonna force people to purchas...   \n",
       "396294    you did what you could he just needs to grow up   \n",
       "396295            indeed\\n\\nsame bickering on adult level   \n",
       "396296  thats all kids tbh depending on the age theyre...   \n",
       "396297  lianhua is propagated by the chinese governmen...   \n",
       "\n",
       "                  timestamp           username  \\\n",
       "0       2020-04-11 15:49:23           invigo79   \n",
       "1       2020-04-03 09:59:08  potatetoe_tractor   \n",
       "2       2020-02-15 15:07:03     CrossfittJesus   \n",
       "3       2020-06-04 07:07:39            nomad80   \n",
       "4       2020-10-31 13:52:12            pirorok   \n",
       "...                     ...                ...   \n",
       "396293  2022-08-23 04:42:04            bullno1   \n",
       "396294  2022-04-09 02:44:52    Pvt_Twinkietoes   \n",
       "396295  2022-01-11 08:46:34            burncig   \n",
       "396296  2022-07-26 10:32:05         Boogie_p0p   \n",
       "396297  2022-03-21 02:43:55       rammingfarts   \n",
       "\n",
       "                                                     link    link_id  \\\n",
       "0       /r/singapore/comments/fz7vtl/im_quite_interest...  t3_fz7vtl   \n",
       "1       /r/singapore/comments/fu3axm/government_to_tab...  t3_fu3axm   \n",
       "2       /r/singapore/comments/f4ac70/what_is_ps_defens...  t3_f4ac70   \n",
       "3        /r/singapore/comments/gw55cx/notoracism/fsu4fyd/  t3_gw55cx   \n",
       "4       /r/singapore/comments/jl6abo/rsingapore_random...  t3_jl6abo   \n",
       "...                                                   ...        ...   \n",
       "396293  /r/singapore/comments/wux9p2/section_377a_mini...  t3_wux9p2   \n",
       "396294  /r/singapore/comments/tzegvu/rsingapore_random...  t3_tzegvu   \n",
       "396295  /r/singapore/comments/s184kd/psps_leong_mun_wa...  t3_s184kd   \n",
       "396296  /r/singapore/comments/w81l82/rsingapore_random...  t3_w81l82   \n",
       "396297  /r/singapore/comments/tiw1t8/rsingapore_random...  t3_tiw1t8   \n",
       "\n",
       "         parent_id       id subreddit_id  \\\n",
       "0        t3_fz7vtl  fn3gbrg     t5_2qh8c   \n",
       "1       t1_fmasya5  fmau5k3     t5_2qh8c   \n",
       "2        t3_f4ac70  fhp05xc     t5_2qh8c   \n",
       "3       t1_fsu3dsf  fsu4fyd     t5_2qh8c   \n",
       "4       t1_gap4e9y  gap4vkl     t5_2qh8c   \n",
       "...            ...      ...          ...   \n",
       "396293  t1_ilcinzf  ilf1evi     t5_2qh8c   \n",
       "396294  t1_i3zj3bm  i3zjpnf     t5_2qh8c   \n",
       "396295  t1_hs6nhfq  hs6oc6n     t5_2qh8c   \n",
       "396296  t1_ihowm0f  ihp4ykd     t5_2qh8c   \n",
       "396297  t1_i1hd9ie  i1hghen     t5_2qh8c   \n",
       "\n",
       "                                               moderation  \\\n",
       "0       {'removal_reason': None, 'collapsed': False, '...   \n",
       "1       {'removal_reason': None, 'collapsed': False, '...   \n",
       "2       {'removal_reason': None, 'collapsed': False, '...   \n",
       "3       {'removal_reason': None, 'collapsed': False, '...   \n",
       "4       {'removal_reason': None, 'collapsed': False, '...   \n",
       "...                                                   ...   \n",
       "396293  {'controversiality': 0, 'collapsed_reason_code...   \n",
       "396294  {'controversiality': 0, 'collapsed_reason_code...   \n",
       "396295  {'controversiality': 0, 'collapsed_reason_code...   \n",
       "396296  {'controversiality': 0, 'collapsed_reason_code...   \n",
       "396297  {'controversiality': 0, 'collapsed_reason_code...   \n",
       "\n",
       "                                                     post  \\\n",
       "0       singapore,fz7vtl,im_quite_interested_to_know_w...   \n",
       "1       singapore,fu3axm,government_to_table_bill_to_e...   \n",
       "2             singapore,f4ac70,what_is_ps_defense_imprest   \n",
       "3                             singapore,gw55cx,notoracism   \n",
       "4       singapore,jl6abo,rsingapore_random_discussion_...   \n",
       "...                                                   ...   \n",
       "396293  singapore,wux9p2,section_377a_ministries_looki...   \n",
       "396294  singapore,tzegvu,rsingapore_random_discussion_...   \n",
       "396295  singapore,s184kd,psps_leong_mun_wai_should_be_...   \n",
       "396296  singapore,w81l82,rsingapore_random_discussion_...   \n",
       "396297  singapore,tiw1t8,rsingapore_random_discussion_...   \n",
       "\n",
       "                                                   title  \n",
       "0                im_quite_interested_to_know_why_so_many  \n",
       "1        government_to_table_bill_to_ensure_safe_general  \n",
       "2                             what_is_ps_defense_imprest  \n",
       "3                                             notoracism  \n",
       "4       rsingapore_random_discussion_and_small_questions  \n",
       "...                                                  ...  \n",
       "396293   section_377a_ministries_looking_at_ways_to_deal  \n",
       "396294  rsingapore_random_discussion_and_small_questions  \n",
       "396295          psps_leong_mun_wai_should_be_responsible  \n",
       "396296  rsingapore_random_discussion_and_small_questions  \n",
       "396297  rsingapore_random_discussion_and_small_questions  \n",
       "\n",
       "[396298 rows x 11 columns]"
      ]
     },
     "execution_count": 97,
     "metadata": {},
     "output_type": "execute_result"
    }
   ],
   "source": [
    "# get the title of the post that the comment is in (to sense what the post is talking about)\n",
    "def get_title(link):\n",
    "    parts = link.split('/')\n",
    "    return parts[5]\n",
    "\n",
    "# get the post that the comment is in (some posts have the same title)\n",
    "def get_post(link):\n",
    "    parts = link.split('/')\n",
    "    subreddit = parts[2]\n",
    "    post_id = parts[4]\n",
    "    title = parts[5]\n",
    "    return subreddit + ',' + post_id + ',' + title\n",
    "\n",
    "df['title'] = df['link'].apply(get_title)\n",
    "df['post'] = df['link'].apply(get_post)\n",
    "df"
   ]
  },
  {
   "cell_type": "markdown",
   "metadata": {},
   "source": [
    "Rank posts by number of comments, from most to least"
   ]
  },
  {
   "cell_type": "code",
   "execution_count": 98,
   "metadata": {},
   "outputs": [
    {
     "name": "stdout",
     "output_type": "stream",
     "text": [
      "post\n",
      "singapore,homxdq,singapore_general_elections_2020_polling_results    918\n",
      "singapore,kzg304,rsingapore_random_discussion_and_small_questions    375\n",
      "singapore,hpikf7,level_system_trial_2                                367\n",
      "singapore,ky4zne,rsingapore_random_discussion_and_small_questions    237\n",
      "singapore,kwr24m,rsingapore_random_discussion_and_small_questions    235\n",
      "singapore,kw1u3f,rsingapore_random_discussion_and_small_questions    232\n",
      "singapore,knbva2,rsingapore_random_discussion_and_small_questions    226\n",
      "singapore,l28wfr,rsingapore_random_discussion_and_small_questions    219\n",
      "singapore,janlof,rsingapore_random_discussion_and_small_questions    214\n",
      "singapore,kxfv50,rsingapore_random_discussion_and_small_questions    214\n",
      "Name: count, dtype: int64\n"
     ]
    }
   ],
   "source": [
    "counts = df['post'].value_counts()\n",
    "\n",
    "# getting the top 10 posts with the most number of comments\n",
    "print(counts[0:10])"
   ]
  },
  {
   "cell_type": "markdown",
   "metadata": {},
   "source": [
    "The polling results of Singapore's 2020 general elections were the most talked about topic, with the highest number of comments in the post `'singapore_general_elections_2020_polling_results'` among the 3 subreddits."
   ]
  },
  {
   "cell_type": "markdown",
   "metadata": {},
   "source": [
    "# Further exploration of posts"
   ]
  },
  {
   "cell_type": "code",
   "execution_count": 104,
   "metadata": {},
   "outputs": [
    {
     "name": "stdout",
     "output_type": "stream",
     "text": [
      "post\n",
      "singapore,homxdq,singapore_general_elections_2020_polling_results    918\n",
      "singapore,kzg304,rsingapore_random_discussion_and_small_questions    375\n",
      "singapore,hpikf7,level_system_trial_2                                367\n",
      "singapore,ky4zne,rsingapore_random_discussion_and_small_questions    237\n",
      "singapore,kwr24m,rsingapore_random_discussion_and_small_questions    235\n",
      "singapore,kw1u3f,rsingapore_random_discussion_and_small_questions    232\n",
      "singapore,knbva2,rsingapore_random_discussion_and_small_questions    226\n",
      "singapore,l28wfr,rsingapore_random_discussion_and_small_questions    219\n",
      "singapore,janlof,rsingapore_random_discussion_and_small_questions    214\n",
      "singapore,kxfv50,rsingapore_random_discussion_and_small_questions    214\n",
      "singapore,kuo4mb,rsingapore_random_discussion_and_small_questions    204\n",
      "singapore,l04x7f,rsingapore_random_discussion_and_small_questions    198\n",
      "singapore,kcjtc2,rsingapore_random_discussion_and_small_questions    195\n",
      "singapore,isvaje,rsingapore_random_discussion_and_small_questions    195\n",
      "singapore,iwnc6v,rsingapore_random_discussion_and_small_questions    194\n",
      "singapore,j9ejxj,rsingapore_random_discussion_and_small_questions    189\n",
      "singapore,itirsl,rsingapore_random_discussion_and_small_questions    189\n",
      "singapore,j0zv7a,rsingapore_random_discussion_and_small_questions    189\n",
      "singapore,kvd9gf,rsingapore_random_discussion_and_small_questions    189\n",
      "singapore,kysezv,rsingapore_random_discussion_and_small_questions    186\n",
      "Name: count, dtype: int64\n"
     ]
    }
   ],
   "source": [
    "# top 20 posts with most number of comments\n",
    "print(counts[0:20])"
   ]
  },
  {
   "cell_type": "markdown",
   "metadata": {},
   "source": [
    "## Post: singapore general elections 2020 polling results"
   ]
  },
  {
   "cell_type": "markdown",
   "metadata": {},
   "source": [
    "Let's find out what people are saying in this post."
   ]
  },
  {
   "cell_type": "code",
   "execution_count": 118,
   "metadata": {},
   "outputs": [
    {
     "name": "stdout",
     "output_type": "stream",
     "text": [
      "83        they could technically retire an mp in a smc t...\n",
      "163       my sense as foreigner is that this time around...\n",
      "359       tpl really is hard af carrier kate spate now s...\n",
      "396               ah ya hor hes a new lad i stand corrected\n",
      "525                             should ican i help u repost\n",
      "                                ...                        \n",
      "234856    time to sleep my cockles are warm my heart is ...\n",
      "235354    i just dont want a parliament where a supermaj...\n",
      "235762                                      west coast huat\n",
      "236448                                             dont leh\n",
      "236466    no point talking about absolute number of reje...\n",
      "Name: text, Length: 918, dtype: object\n"
     ]
    }
   ],
   "source": [
    "ge2020_poll_results = df[df['post'] == 'singapore,homxdq,singapore_general_elections_2020_polling_results']\n",
    "print(ge2020_poll_results['text'])"
   ]
  },
  {
   "cell_type": "markdown",
   "metadata": {},
   "source": [
    "## Post: rsingapore random discussion and small questions"
   ]
  },
  {
   "cell_type": "markdown",
   "metadata": {},
   "source": [
    "It seems that a big bulk of the posts with most comments have the same title `'rsingapore_random_discussion_and_small_questions'`. In the subreddit r/singapore, there is a post dedicated to random discussions and small questions created daily. We analyse each post (for a particular day) individually by identifying them by their `link_id`."
   ]
  },
  {
   "cell_type": "code",
   "execution_count": 107,
   "metadata": {},
   "outputs": [
    {
     "name": "stdout",
     "output_type": "stream",
     "text": [
      "post\n",
      "singapore,kzg304,rsingapore_random_discussion_and_small_questions    375\n",
      "Name: count, dtype: int64\n"
     ]
    }
   ],
   "source": [
    "# this is the post with the second most comments\n",
    "print(counts[1:2])"
   ]
  },
  {
   "cell_type": "code",
   "execution_count": 143,
   "metadata": {},
   "outputs": [
    {
     "name": "stdout",
     "output_type": "stream",
     "text": [
      "673                                                     NaN\n",
      "1524                              ziana zain madah berhelah\n",
      "1775                           noooooooo not the spin again\n",
      "2144      i just realize i turn xx years old this year h...\n",
      "2371      it is indeed jelak hahaha cookie rec me dong d...\n",
      "                                ...                        \n",
      "234004    hmm what about the hormonal route iirc theres ...\n",
      "234017                           what makes you active here\n",
      "235746    math was always there for me when i knew i was...\n",
      "235751    boom\\n\\nsmoke clears\\n\\ncough cough cough who ...\n",
      "236591                                    i dun understand \n",
      "Name: text, Length: 375, dtype: object\n"
     ]
    }
   ],
   "source": [
    "rsingapore_random_discussion_and_small_questions_kzg304 = df[df['post'] == 'singapore,kzg304,rsingapore_random_discussion_and_small_questions']\n",
    "print(rsingapore_random_discussion_and_small_questions_kzg304['text'])"
   ]
  },
  {
   "cell_type": "markdown",
   "metadata": {},
   "source": [
    "Comments in the same post are largely uncorrelated. We would need to dive deeper into each comment thread to gauge the topic that is most talked."
   ]
  },
  {
   "cell_type": "markdown",
   "metadata": {},
   "source": [
    "## Post: level system trial"
   ]
  },
  {
   "cell_type": "markdown",
   "metadata": {},
   "source": [
    "Let's look at the comments in this post."
   ]
  },
  {
   "cell_type": "code",
   "execution_count": 117,
   "metadata": {},
   "outputs": [
    {
     "name": "stdout",
     "output_type": "stream",
     "text": [
      "332                             addflair text thumbs up man\n",
      "1695                                               addflair\n",
      "1975                              addflair text what is zis\n",
      "5697      addflair  text its me mariah carey and honey t...\n",
      "6319                                               addflair\n",
      "                                ...                        \n",
      "234537                                 thanks for the flair\n",
      "235370                                             addflair\n",
      "235893                                             addflair\n",
      "235909    addflair textcolor red text im called shi ting...\n",
      "236548                                             addflair\n",
      "Name: text, Length: 367, dtype: object\n"
     ]
    }
   ],
   "source": [
    "level_system_trial_2 = df[df['post'] == 'singapore,hpikf7,level_system_trial_2']\n",
    "print(level_system_trial_2['text'])"
   ]
  },
  {
   "cell_type": "markdown",
   "metadata": {},
   "source": [
    "The post `'level_system_trial_2'` is where users add/remove level flair to their account. Comments are not communicative or meaningful, hence this post can be counted as insignificant."
   ]
  },
  {
   "cell_type": "markdown",
   "metadata": {},
   "source": [
    "## Other posts"
   ]
  },
  {
   "cell_type": "markdown",
   "metadata": {},
   "source": [
    "Let us first remove the posts with titles `'rsingapore_random_discussion_and_small_questions'` and `'level_system_trial_2'`."
   ]
  },
  {
   "cell_type": "code",
   "execution_count": 119,
   "metadata": {},
   "outputs": [
    {
     "name": "stdout",
     "output_type": "stream",
     "text": [
      "post\n",
      "singapore,homxdq,singapore_general_elections_2020_polling_results     918\n",
      "singapore,nc0vwe,no_dining_in_social_gatherings_capped_at_2_people    161\n",
      "singapore,onx8xr,no_dining_in_social_group_sizes_cut_to_2_from        122\n",
      "singapore,hie65n,ge2020_nomination_day_mega_thread                    121\n",
      "singapore,hj8h5p,ge_2020_political_debate_megathread                  115\n",
      "singapore,wjxxdd,megathread_national_day_parade_2022                  111\n",
      "singapore,hs2ynr,this_is_basically_the_entirety_of_an_average         108\n",
      "singapore,nosjic,megathread_pm_lee_delivers_national_address_on       106\n",
      "singapore,on8f8m,river_valley_high_school_student_killed_on_campus    103\n",
      "singapore,nj3o0j,someone_is_attacked_on_mrt                           102\n",
      "singapore,q4cv50,pm_lee_to_address_nation_on_covid19_situation_and    100\n",
      "singapore,wtc8jy,megathread_national_day_rally_2022                    99\n",
      "singapore,qbyerz,stabilisation_phase_extended_to_nov_21_more_time      98\n",
      "singapore,puh01k,covid19_diningin_group_size_limit_at_regular_fb       97\n",
      "singapore,q3204h,whats_the_point_of_bringing_a_life_into_singapore     97\n",
      "singapore,on2hbu,using_only_emojis_which_town_are_you_from             95\n",
      "singapore,fu4ch0,pm_lee_announces_new_stricter_restrictions_to         91\n",
      "singapore,q4e96u,those_unvaccinated_against_covid19_will_no_longer     89\n",
      "singapore,tlvwx9,live_pm_lee_addresses_nation_on_covid19_situation     88\n",
      "singapore,o104h0,covid19_task_force_evaluating_timing_and_scope_of     88\n",
      "Name: count, dtype: int64\n"
     ]
    }
   ],
   "source": [
    "other_posts = df[(df['title'] != 'rsingapore_random_discussion_and_small_questions') & (df['title'] != 'level_system_trial_2')]\n",
    "counts2 = other_posts['post'].value_counts()\n",
    "print(counts2[0:20])"
   ]
  },
  {
   "cell_type": "markdown",
   "metadata": {},
   "source": [
    "Find out the topic of posts with ambiguous titles, by looking at comments"
   ]
  },
  {
   "cell_type": "code",
   "execution_count": 126,
   "metadata": {},
   "outputs": [
    {
     "name": "stdout",
     "output_type": "stream",
     "text": [
      "845       hdb redid the rules for buying older flats rec...\n",
      "1767      gtaverage live expectancy in singapore is 83 s...\n",
      "6615      the point i make is that just because its a ra...\n",
      "11218     sure but the average income for an engineer is...\n",
      "13662     gt you literally said its not fun when you hav...\n",
      "                                ...                        \n",
      "229624    hey this is bs and its wrong cpf retirement su...\n",
      "230173                                       happy cake day\n",
      "233202    i agree on those facts but is it worth it to b...\n",
      "234744    dont forget about the cost of renovation which...\n",
      "235138    thats 37 of 117 and 29 of the 37 is earning bo...\n",
      "Name: text, Length: 108, dtype: object\n"
     ]
    }
   ],
   "source": [
    "this_is_basically_the_entirety_of_an_average = df[df['post'] == 'singapore,hs2ynr,this_is_basically_the_entirety_of_an_average']\n",
    "print(this_is_basically_the_entirety_of_an_average['text'])"
   ]
  },
  {
   "cell_type": "markdown",
   "metadata": {},
   "source": [
    "It seems that people are talking about things concerning life and finances in Singapore."
   ]
  },
  {
   "cell_type": "code",
   "execution_count": 139,
   "metadata": {},
   "outputs": [
    {
     "name": "stdout",
     "output_type": "stream",
     "text": [
      "6622      the restriction rates seem to be increasing al...\n",
      "6989      maybe someone can explain this to me since im ...\n",
      "9015                          punish locals reward tourists\n",
      "9439      this is the mce tunnel one of the longest in asia\n",
      "15428     yep  and for a virus youre mostly not at risk for\n",
      "                                ...                        \n",
      "221899    at this point better people will be playing 11...\n",
      "231833                  sg needs more colour in their lives\n",
      "232275                darkness is just the absence of light\n",
      "232505    what did they do during the last month you ask...\n",
      "233198                                   outdoors no dining\n",
      "Name: text, Length: 98, dtype: object\n"
     ]
    }
   ],
   "source": [
    "stabilisation_phase_extended_to_nov_21_more_time = df[df['post'] == 'singapore,qbyerz,stabilisation_phase_extended_to_nov_21_more_time']\n",
    "print(stabilisation_phase_extended_to_nov_21_more_time['text'])"
   ]
  },
  {
   "cell_type": "markdown",
   "metadata": {},
   "source": [
    "It seems that this post pertains to restrictions due to COVID-19."
   ]
  },
  {
   "cell_type": "code",
   "execution_count": 142,
   "metadata": {},
   "outputs": [
    {
     "name": "stdout",
     "output_type": "stream",
     "text": [
      "7         sometimes there are restrictions on how often ...\n",
      "2568      mods arent singaporeans they dont give a shit ...\n",
      "3225      since you mentioned mask here is a good articl...\n",
      "3857      hong kan the reporter say dorscon red in his q...\n",
      "7382                                         its orange gao\n",
      "                                ...                        \n",
      "225257               there are different levels of lockdown\n",
      "229436    no even tho health is more important im sure w...\n",
      "230109                                              correct\n",
      "234048    so your home country is england while youre pr...\n",
      "235283    please encourage people to bring their own con...\n",
      "Name: text, Length: 91, dtype: object\n"
     ]
    }
   ],
   "source": [
    "pm_lee_announces_new_stricter_restrictions_to = df[df['post'] == 'singapore,fu4ch0,pm_lee_announces_new_stricter_restrictions_to']\n",
    "print(pm_lee_announces_new_stricter_restrictions_to['text'])"
   ]
  },
  {
   "cell_type": "markdown",
   "metadata": {},
   "source": [
    "It seems that this post pertains to COVID-19 restrictions as well."
   ]
  },
  {
   "cell_type": "markdown",
   "metadata": {},
   "source": [
    "## Results"
   ]
  },
  {
   "cell_type": "markdown",
   "metadata": {},
   "source": [
    "From the posts, the two large topics that come out are:\n",
    "- **Singapore general elections 2020**\n",
    "    - posts (based on top 20):\n",
    "        - `'singapore_general_elections_2020_polling_results'`\n",
    "        - `'ge2020_nomination_day_mega_thread'`\n",
    "        - `'ge_2020_political_debate_megathread'`\n",
    "    - total number of comments (based on top 20 posts): 1154\n",
    "- **COVID-19, especially on dining restrictions**\n",
    "    - posts (based on top 20):\n",
    "        - `'no_dining_in_social_gatherings_capped_at_2_people...'`\n",
    "        - `'no_dining_in_social_group_sizes_cut_to_2_from...'`\n",
    "        - `'pm_lee_to_address_nation_on_covid19_situation_and...'`\n",
    "        - `'stabilisation_phase_extended_to_nov_21_more_time...'`\n",
    "        - `'covid19_diningin_group_size_limit_at_regular_fb...'`\n",
    "        - `'pm_lee_announces_new_stricter_restrictions_to...'`\n",
    "        - `'those_unvaccinated_against_covid19_will_no_longer...'`\n",
    "        - `'live_pm_lee_addresses_nation_on_covid19_situation...'`\n",
    "        - `'covid19_task_force_evaluating_timing_and_scope_of...'`\n",
    "    - total number of comments (based on top 20 posts): 934"
   ]
  }
 ],
 "metadata": {
  "kernelspec": {
   "display_name": "backend-ifdVE53N",
   "language": "python",
   "name": "python3"
  },
  "language_info": {
   "codemirror_mode": {
    "name": "ipython",
    "version": 3
   },
   "file_extension": ".py",
   "mimetype": "text/x-python",
   "name": "python",
   "nbconvert_exporter": "python",
   "pygments_lexer": "ipython3",
   "version": "3.12.2"
  }
 },
 "nbformat": 4,
 "nbformat_minor": 2
}
