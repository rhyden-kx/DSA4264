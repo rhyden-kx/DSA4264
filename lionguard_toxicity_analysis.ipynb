{
 "cells": [
  {
   "cell_type": "markdown",
   "metadata": {},
   "source": [
    "# 1. Load Libraries"
   ]
  },
  {
   "cell_type": "code",
   "execution_count": 2,
   "metadata": {},
   "outputs": [],
   "source": [
    "import numpy as np\n",
    "import pandas as pd\n",
    "import torch\n",
    "from transformers import AutoTokenizer, AutoModel\n",
    "from huggingface_hub import hf_hub_download\n",
    "import json\n",
    "import onnxruntime as rt"
   ]
  },
  {
   "cell_type": "code",
   "execution_count": 3,
   "metadata": {},
   "outputs": [],
   "source": [
    "reddit_df = pd.read_csv('./data/combined_cleaned_500k.csv',  lineterminator='\\n', encoding='utf8')"
   ]
  },
  {
   "cell_type": "code",
   "execution_count": 4,
   "metadata": {},
   "outputs": [
    {
     "data": {
      "text/html": [
       "<div>\n",
       "<style scoped>\n",
       "    .dataframe tbody tr th:only-of-type {\n",
       "        vertical-align: middle;\n",
       "    }\n",
       "\n",
       "    .dataframe tbody tr th {\n",
       "        vertical-align: top;\n",
       "    }\n",
       "\n",
       "    .dataframe thead th {\n",
       "        text-align: right;\n",
       "    }\n",
       "</style>\n",
       "<table border=\"1\" class=\"dataframe\">\n",
       "  <thead>\n",
       "    <tr style=\"text-align: right;\">\n",
       "      <th></th>\n",
       "      <th>text</th>\n",
       "      <th>timestamp</th>\n",
       "      <th>username</th>\n",
       "      <th>link</th>\n",
       "      <th>link_id</th>\n",
       "      <th>parent_id</th>\n",
       "      <th>id</th>\n",
       "      <th>subreddit_id</th>\n",
       "      <th>moderation\\r</th>\n",
       "    </tr>\n",
       "  </thead>\n",
       "  <tbody>\n",
       "    <tr>\n",
       "      <th>0</th>\n",
       "      <td>i think most singaporeans dont give a damn who...</td>\n",
       "      <td>2020-04-11 15:49:23</td>\n",
       "      <td>invigo79</td>\n",
       "      <td>/r/singapore/comments/fz7vtl/im_quite_interest...</td>\n",
       "      <td>t3_fz7vtl</td>\n",
       "      <td>t3_fz7vtl</td>\n",
       "      <td>fn3gbrg</td>\n",
       "      <td>t5_2qh8c</td>\n",
       "      <td>{'removal_reason': None, 'collapsed': False, '...</td>\n",
       "    </tr>\n",
       "    <tr>\n",
       "      <th>1</th>\n",
       "      <td>fair point the secrecy aspect of it slipped my...</td>\n",
       "      <td>2020-04-03 09:59:08</td>\n",
       "      <td>potatetoe_tractor</td>\n",
       "      <td>/r/singapore/comments/fu3axm/government_to_tab...</td>\n",
       "      <td>t3_fu3axm</td>\n",
       "      <td>t1_fmasya5</td>\n",
       "      <td>fmau5k3</td>\n",
       "      <td>t5_2qh8c</td>\n",
       "      <td>{'removal_reason': None, 'collapsed': False, '...</td>\n",
       "    </tr>\n",
       "    <tr>\n",
       "      <th>2</th>\n",
       "      <td>range</td>\n",
       "      <td>2020-02-15 15:07:03</td>\n",
       "      <td>CrossfittJesus</td>\n",
       "      <td>/r/singapore/comments/f4ac70/what_is_ps_defens...</td>\n",
       "      <td>t3_f4ac70</td>\n",
       "      <td>t3_f4ac70</td>\n",
       "      <td>fhp05xc</td>\n",
       "      <td>t5_2qh8c</td>\n",
       "      <td>{'removal_reason': None, 'collapsed': False, '...</td>\n",
       "    </tr>\n",
       "    <tr>\n",
       "      <th>3</th>\n",
       "      <td>gt this is binary thinking because you think t...</td>\n",
       "      <td>2020-06-04 07:07:39</td>\n",
       "      <td>nomad80</td>\n",
       "      <td>/r/singapore/comments/gw55cx/notoracism/fsu4fyd/</td>\n",
       "      <td>t3_gw55cx</td>\n",
       "      <td>t1_fsu3dsf</td>\n",
       "      <td>fsu4fyd</td>\n",
       "      <td>t5_2qh8c</td>\n",
       "      <td>{'removal_reason': None, 'collapsed': False, '...</td>\n",
       "    </tr>\n",
       "    <tr>\n",
       "      <th>4</th>\n",
       "      <td>boo boo poor u lmao</td>\n",
       "      <td>2020-10-31 13:52:12</td>\n",
       "      <td>pirorok</td>\n",
       "      <td>/r/singapore/comments/jl6abo/rsingapore_random...</td>\n",
       "      <td>t3_jl6abo</td>\n",
       "      <td>t1_gap4e9y</td>\n",
       "      <td>gap4vkl</td>\n",
       "      <td>t5_2qh8c</td>\n",
       "      <td>{'removal_reason': None, 'collapsed': False, '...</td>\n",
       "    </tr>\n",
       "  </tbody>\n",
       "</table>\n",
       "</div>"
      ],
      "text/plain": [
       "                                                text            timestamp  \\\n",
       "0  i think most singaporeans dont give a damn who...  2020-04-11 15:49:23   \n",
       "1  fair point the secrecy aspect of it slipped my...  2020-04-03 09:59:08   \n",
       "2                                              range  2020-02-15 15:07:03   \n",
       "3  gt this is binary thinking because you think t...  2020-06-04 07:07:39   \n",
       "4                                boo boo poor u lmao  2020-10-31 13:52:12   \n",
       "\n",
       "            username                                               link  \\\n",
       "0           invigo79  /r/singapore/comments/fz7vtl/im_quite_interest...   \n",
       "1  potatetoe_tractor  /r/singapore/comments/fu3axm/government_to_tab...   \n",
       "2     CrossfittJesus  /r/singapore/comments/f4ac70/what_is_ps_defens...   \n",
       "3            nomad80   /r/singapore/comments/gw55cx/notoracism/fsu4fyd/   \n",
       "4            pirorok  /r/singapore/comments/jl6abo/rsingapore_random...   \n",
       "\n",
       "     link_id   parent_id       id subreddit_id  \\\n",
       "0  t3_fz7vtl   t3_fz7vtl  fn3gbrg     t5_2qh8c   \n",
       "1  t3_fu3axm  t1_fmasya5  fmau5k3     t5_2qh8c   \n",
       "2  t3_f4ac70   t3_f4ac70  fhp05xc     t5_2qh8c   \n",
       "3  t3_gw55cx  t1_fsu3dsf  fsu4fyd     t5_2qh8c   \n",
       "4  t3_jl6abo  t1_gap4e9y  gap4vkl     t5_2qh8c   \n",
       "\n",
       "                                        moderation\\r  \n",
       "0  {'removal_reason': None, 'collapsed': False, '...  \n",
       "1  {'removal_reason': None, 'collapsed': False, '...  \n",
       "2  {'removal_reason': None, 'collapsed': False, '...  \n",
       "3  {'removal_reason': None, 'collapsed': False, '...  \n",
       "4  {'removal_reason': None, 'collapsed': False, '...  "
      ]
     },
     "execution_count": 4,
     "metadata": {},
     "output_type": "execute_result"
    }
   ],
   "source": [
    "reddit_df.head()"
   ]
  },
  {
   "cell_type": "markdown",
   "metadata": {},
   "source": [
    "# 2. Test on the first 5 rows of data"
   ]
  },
  {
   "cell_type": "code",
   "execution_count": 5,
   "metadata": {},
   "outputs": [],
   "source": [
    "small_reddit_df = reddit_df[0:5]"
   ]
  },
  {
   "cell_type": "code",
   "execution_count": 6,
   "metadata": {},
   "outputs": [
    {
     "data": {
      "text/html": [
       "<div>\n",
       "<style scoped>\n",
       "    .dataframe tbody tr th:only-of-type {\n",
       "        vertical-align: middle;\n",
       "    }\n",
       "\n",
       "    .dataframe tbody tr th {\n",
       "        vertical-align: top;\n",
       "    }\n",
       "\n",
       "    .dataframe thead th {\n",
       "        text-align: right;\n",
       "    }\n",
       "</style>\n",
       "<table border=\"1\" class=\"dataframe\">\n",
       "  <thead>\n",
       "    <tr style=\"text-align: right;\">\n",
       "      <th></th>\n",
       "      <th>text</th>\n",
       "      <th>timestamp</th>\n",
       "      <th>username</th>\n",
       "      <th>link</th>\n",
       "      <th>link_id</th>\n",
       "      <th>parent_id</th>\n",
       "      <th>id</th>\n",
       "      <th>subreddit_id</th>\n",
       "      <th>moderation\\r</th>\n",
       "    </tr>\n",
       "  </thead>\n",
       "  <tbody>\n",
       "    <tr>\n",
       "      <th>0</th>\n",
       "      <td>i think most singaporeans dont give a damn who...</td>\n",
       "      <td>2020-04-11 15:49:23</td>\n",
       "      <td>invigo79</td>\n",
       "      <td>/r/singapore/comments/fz7vtl/im_quite_interest...</td>\n",
       "      <td>t3_fz7vtl</td>\n",
       "      <td>t3_fz7vtl</td>\n",
       "      <td>fn3gbrg</td>\n",
       "      <td>t5_2qh8c</td>\n",
       "      <td>{'removal_reason': None, 'collapsed': False, '...</td>\n",
       "    </tr>\n",
       "    <tr>\n",
       "      <th>1</th>\n",
       "      <td>fair point the secrecy aspect of it slipped my...</td>\n",
       "      <td>2020-04-03 09:59:08</td>\n",
       "      <td>potatetoe_tractor</td>\n",
       "      <td>/r/singapore/comments/fu3axm/government_to_tab...</td>\n",
       "      <td>t3_fu3axm</td>\n",
       "      <td>t1_fmasya5</td>\n",
       "      <td>fmau5k3</td>\n",
       "      <td>t5_2qh8c</td>\n",
       "      <td>{'removal_reason': None, 'collapsed': False, '...</td>\n",
       "    </tr>\n",
       "    <tr>\n",
       "      <th>2</th>\n",
       "      <td>range</td>\n",
       "      <td>2020-02-15 15:07:03</td>\n",
       "      <td>CrossfittJesus</td>\n",
       "      <td>/r/singapore/comments/f4ac70/what_is_ps_defens...</td>\n",
       "      <td>t3_f4ac70</td>\n",
       "      <td>t3_f4ac70</td>\n",
       "      <td>fhp05xc</td>\n",
       "      <td>t5_2qh8c</td>\n",
       "      <td>{'removal_reason': None, 'collapsed': False, '...</td>\n",
       "    </tr>\n",
       "    <tr>\n",
       "      <th>3</th>\n",
       "      <td>gt this is binary thinking because you think t...</td>\n",
       "      <td>2020-06-04 07:07:39</td>\n",
       "      <td>nomad80</td>\n",
       "      <td>/r/singapore/comments/gw55cx/notoracism/fsu4fyd/</td>\n",
       "      <td>t3_gw55cx</td>\n",
       "      <td>t1_fsu3dsf</td>\n",
       "      <td>fsu4fyd</td>\n",
       "      <td>t5_2qh8c</td>\n",
       "      <td>{'removal_reason': None, 'collapsed': False, '...</td>\n",
       "    </tr>\n",
       "    <tr>\n",
       "      <th>4</th>\n",
       "      <td>boo boo poor u lmao</td>\n",
       "      <td>2020-10-31 13:52:12</td>\n",
       "      <td>pirorok</td>\n",
       "      <td>/r/singapore/comments/jl6abo/rsingapore_random...</td>\n",
       "      <td>t3_jl6abo</td>\n",
       "      <td>t1_gap4e9y</td>\n",
       "      <td>gap4vkl</td>\n",
       "      <td>t5_2qh8c</td>\n",
       "      <td>{'removal_reason': None, 'collapsed': False, '...</td>\n",
       "    </tr>\n",
       "  </tbody>\n",
       "</table>\n",
       "</div>"
      ],
      "text/plain": [
       "                                                text            timestamp  \\\n",
       "0  i think most singaporeans dont give a damn who...  2020-04-11 15:49:23   \n",
       "1  fair point the secrecy aspect of it slipped my...  2020-04-03 09:59:08   \n",
       "2                                              range  2020-02-15 15:07:03   \n",
       "3  gt this is binary thinking because you think t...  2020-06-04 07:07:39   \n",
       "4                                boo boo poor u lmao  2020-10-31 13:52:12   \n",
       "\n",
       "            username                                               link  \\\n",
       "0           invigo79  /r/singapore/comments/fz7vtl/im_quite_interest...   \n",
       "1  potatetoe_tractor  /r/singapore/comments/fu3axm/government_to_tab...   \n",
       "2     CrossfittJesus  /r/singapore/comments/f4ac70/what_is_ps_defens...   \n",
       "3            nomad80   /r/singapore/comments/gw55cx/notoracism/fsu4fyd/   \n",
       "4            pirorok  /r/singapore/comments/jl6abo/rsingapore_random...   \n",
       "\n",
       "     link_id   parent_id       id subreddit_id  \\\n",
       "0  t3_fz7vtl   t3_fz7vtl  fn3gbrg     t5_2qh8c   \n",
       "1  t3_fu3axm  t1_fmasya5  fmau5k3     t5_2qh8c   \n",
       "2  t3_f4ac70   t3_f4ac70  fhp05xc     t5_2qh8c   \n",
       "3  t3_gw55cx  t1_fsu3dsf  fsu4fyd     t5_2qh8c   \n",
       "4  t3_jl6abo  t1_gap4e9y  gap4vkl     t5_2qh8c   \n",
       "\n",
       "                                        moderation\\r  \n",
       "0  {'removal_reason': None, 'collapsed': False, '...  \n",
       "1  {'removal_reason': None, 'collapsed': False, '...  \n",
       "2  {'removal_reason': None, 'collapsed': False, '...  \n",
       "3  {'removal_reason': None, 'collapsed': False, '...  \n",
       "4  {'removal_reason': None, 'collapsed': False, '...  "
      ]
     },
     "execution_count": 6,
     "metadata": {},
     "output_type": "execute_result"
    }
   ],
   "source": [
    "small_reddit_df"
   ]
  },
  {
   "cell_type": "markdown",
   "metadata": {},
   "source": [
    "# 3. Model Text Classification"
   ]
  },
  {
   "cell_type": "code",
   "execution_count": 10,
   "metadata": {},
   "outputs": [],
   "source": [
    "# Download model config\n",
    "repo_path = \"govtech/lionguard-v1\"\n",
    "config_path = hf_hub_download(repo_id=repo_path, filename=\"config.json\")\n",
    "with open(config_path, 'r') as f:\n",
    "    config = json.load(f)"
   ]
  },
  {
   "cell_type": "code",
   "execution_count": 9,
   "metadata": {},
   "outputs": [
    {
     "name": "stdout",
     "output_type": "stream",
     "text": [
      "{'description': 'Binary classifier on harmful text in Singapore context', 'embedding': {'tokenizer': 'BAAI/bge-large-en-v1.5', 'model': 'BAAI/bge-large-en-v1.5', 'max_length': 512, 'batch_size': 32}, 'classifier': {'binary': {'calibrated': True, 'threshold': {'high_recall': 0.2, 'balanced': 0.5, 'high_precision': 0.8}, 'model_type': 'ridge_classifier', 'model_fp': 'models/lionguard-binary.onnx'}, 'hateful': {'calibrated': False, 'threshold': {'high_recall': -0.341, 'balanced': -0.186, 'high_precision': -0.008}, 'model_type': 'ridge_classifier', 'model_fp': 'models/lionguard-hateful.onnx'}, 'harassment': {'calibrated': False, 'threshold': {'high_recall': -0.571, 'balanced': -0.471, 'high_precision': -0.471}, 'model_type': 'ridge_classifier', 'model_fp': 'models/lionguard-harassment.onnx'}, 'public_harm': {'calibrated': False, 'threshold': {'high_recall': -0.713, 'balanced': -0.632, 'high_precision': -0.576}, 'model_type': 'ridge_classifier', 'model_fp': 'models/lionguard-public_harm.onnx'}, 'self_harm': {'calibrated': False, 'threshold': {'high_recall': -0.663, 'balanced': -0.617, 'high_precision': -0.608}, 'model_type': 'ridge_classifier', 'model_fp': 'models/lionguard-self_harm.onnx'}, 'sexual': {'calibrated': False, 'threshold': {'high_recall': -0.234, 'balanced': 0.044, 'high_precision': 0.277}, 'model_type': 'ridge_classifier', 'model_fp': 'models/lionguard-sexual.onnx'}, 'toxic': {'calibrated': False, 'threshold': {'high_recall': 0.098, 'balanced': 0.315, 'high_precision': 0.523}, 'model_type': 'ridge_classifier', 'model_fp': 'models/lionguard-toxic.onnx'}, 'violent': {'calibrated': False, 'threshold': {'high_recall': -0.505, 'balanced': -0.343, 'high_precision': -0.343}, 'model_type': 'ridge_classifier', 'model_fp': 'models/lionguard-violent.onnx'}}}\n"
     ]
    }
   ],
   "source": [
    "#print(config)"
   ]
  },
  {
   "cell_type": "markdown",
   "metadata": {},
   "source": [
    "## Embedding Function (Tokenise, Model Configuration and Embeds text data)"
   ]
  },
  {
   "cell_type": "code",
   "execution_count": 11,
   "metadata": {},
   "outputs": [],
   "source": [
    "def get_embeddings(device, data):\n",
    "    # Load the model and tokenizer\n",
    "    tokenizer = AutoTokenizer.from_pretrained(config['embedding']['tokenizer'])\n",
    "    model = AutoModel.from_pretrained(config['embedding']['model'])\n",
    "    model.eval()\n",
    "    model.to(device)\n",
    "\n",
    "    # Generate the embeddings\n",
    "    batch_size = config['embedding']['batch_size']\n",
    "    num_batches = int(np.ceil(len(data)/batch_size))\n",
    "    output = []\n",
    "    for i in range(num_batches):\n",
    "        sentences = data[i*batch_size:(i+1)*batch_size]\n",
    "        encoded_input = tokenizer(sentences, max_length=config['embedding']['max_length'], padding=True, truncation=True, return_tensors='pt')\n",
    "        encoded_input.to(device)\n",
    "        with torch.no_grad():\n",
    "            model_output = model(**encoded_input)\n",
    "            sentence_embeddings = model_output[0][:, 0]\n",
    "        sentence_embeddings = torch.nn.functional.normalize(sentence_embeddings, p=2, dim=1)\n",
    "        output.extend(sentence_embeddings.cpu().numpy())\n",
    "    \n",
    "    return np.array(output)"
   ]
  },
  {
   "cell_type": "markdown",
   "metadata": {},
   "source": [
    "## Predict Function (score prediction with and without thresholds)"
   ]
  },
  {
   "cell_type": "code",
   "execution_count": 12,
   "metadata": {},
   "outputs": [],
   "source": [
    "def predict(batch_text):\n",
    "    device = torch.device(\"cuda\") if torch.cuda.is_available() else \"cpu\"\n",
    "    embeddings = get_embeddings(device, batch_text)\n",
    "    embeddings_df = pd.DataFrame(embeddings)\n",
    "\n",
    "    # Prepare input data\n",
    "    X_input = np.array(embeddings_df, dtype=np.float32)\n",
    "\n",
    "    # Load the classifiers\n",
    "    results = {}\n",
    "    for category, details in config['classifier'].items():\n",
    "        # Download the classifier from HuggingFace hub\n",
    "        local_model_fp = hf_hub_download(repo_id=repo_path, filename=config['classifier'][category]['model_fp'])\n",
    "\n",
    "        # Run the inference\n",
    "        session = rt.InferenceSession(local_model_fp)\n",
    "        input_name = session.get_inputs()[0].name\n",
    "        outputs = session.run(None, {input_name: X_input})\n",
    "\n",
    "        # If calibrated, return only the prediction for the unsafe class\n",
    "        if config['classifier'][category]['calibrated']: \n",
    "            scores = [output[1] for output in outputs[1]]\n",
    "        else:\n",
    "            scores = outputs[1].flatten()\n",
    "        \n",
    "        # Generate the predictions depending on the recommended threshold score\n",
    "        results[category] = {\n",
    "            'scores': scores,\n",
    "            'predictions': {\n",
    "                'high_recall': [1 if score >= config['classifier'][category]['threshold']['high_recall'] else 0 for score in scores],\n",
    "                'balanced': [1 if score >= config['classifier'][category]['threshold']['balanced'] else 0 for score in scores],\n",
    "                'high_precision': [1 if score >= config['classifier'][category]['threshold']['high_precision'] else 0 for score in scores]\n",
    "            }\n",
    "        }\n",
    "\n",
    "    return results"
   ]
  },
  {
   "cell_type": "markdown",
   "metadata": {},
   "source": [
    "## Generate results in another dataframe"
   ]
  },
  {
   "cell_type": "code",
   "execution_count": 25,
   "metadata": {},
   "outputs": [],
   "source": [
    "# Extract the text data and id from the DataFrame\n",
    "batch_id = small_reddit_df['id'].tolist()\n",
    "batch_text = small_reddit_df['text'].tolist()\n",
    "\n",
    "# Generate the scores and predictions\n",
    "results = predict(batch_text)\n",
    "\n",
    "# Prepare results for DataFrame\n",
    "output_data = []\n",
    "for i in range(len(batch_text)):\n",
    "    output_row = {\n",
    "        'id': batch_id[i],\n",
    "        'Text': batch_text[i],\n",
    "    }\n",
    "    # IMPT! THIS LOOP WILL PRODUCE 32 COLUMNS! COMMENT OUT IF NOT NEEDED!\n",
    "    for category in results.keys():\n",
    "        # scores\n",
    "        output_row[f'{category} Score'] = results[category]['scores'][i]\n",
    "        # predictions with highest recall\n",
    "        output_row[f'{category} HR'] = results[category]['predictions']['high_recall'][i]\n",
    "        # balanced predictions\n",
    "        output_row[f'{category} B'] = results[category]['predictions']['balanced'][i]\n",
    "        # predictions with highest precision\n",
    "        output_row[f'{category} HP'] = results[category]['predictions']['high_precision'][i]\n",
    "    output_data.append(output_row)\n",
    "\n",
    "# Create a DataFrame from the results\n",
    "small_results_df = pd.DataFrame(output_data)"
   ]
  },
  {
   "cell_type": "code",
   "execution_count": 26,
   "metadata": {},
   "outputs": [
    {
     "name": "stdout",
     "output_type": "stream",
     "text": [
      "        id                                               Text  binary Score  \\\n",
      "0  fn3gbrg  i think most singaporeans dont give a damn who...      0.008994   \n",
      "1  fmau5k3  fair point the secrecy aspect of it slipped my...      0.000000   \n",
      "2  fhp05xc                                              range      0.004988   \n",
      "3  fsu4fyd  gt this is binary thinking because you think t...      1.000000   \n",
      "4  gap4vkl                                boo boo poor u lmao      1.000000   \n",
      "\n",
      "   binary HR  binary B  binary HP  hateful Score  hateful HR  hateful B  \\\n",
      "0          0         0          0      -0.582897           0          0   \n",
      "1          0         0          0      -1.116735           0          0   \n",
      "2          0         0          0      -1.027191           0          0   \n",
      "3          1         1          1      -0.419287           0          0   \n",
      "4          1         1          1      -0.952112           0          0   \n",
      "\n",
      "   hateful HP  harassment Score  harassment HR  harassment B  harassment HP  \\\n",
      "0           0         -1.002646              0             0              0   \n",
      "1           0         -0.998915              0             0              0   \n",
      "2           0         -0.943212              0             0              0   \n",
      "3           0         -0.622728              0             0              0   \n",
      "4           0         -0.854089              0             0              0   \n",
      "\n",
      "   public_harm Score  public_harm HR  public_harm B  public_harm HP  \\\n",
      "0          -1.063610               0              0               0   \n",
      "1          -1.002214               0              0               0   \n",
      "2          -0.885548               0              0               0   \n",
      "3          -1.015482               0              0               0   \n",
      "4          -0.986401               0              0               0   \n",
      "\n",
      "   self_harm Score  self_harm HR  self_harm B  self_harm HP  sexual Score  \\\n",
      "0        -1.013912             0            0             0     -1.175568   \n",
      "1        -1.007315             0            0             0     -1.166313   \n",
      "2        -1.038814             0            0             0     -0.859907   \n",
      "3        -1.016676             0            0             0     -1.003475   \n",
      "4        -0.989860             0            0             0     -0.617169   \n",
      "\n",
      "   sexual HR  sexual B  sexual HP  toxic Score  toxic HR  toxic B  toxic HP  \\\n",
      "0          0         0          0    -0.419336         0        0         0   \n",
      "1          0         0          0    -1.869360         0        0         0   \n",
      "2          0         0          0    -0.798018         0        0         0   \n",
      "3          0         0          0     1.119167         1        1         1   \n",
      "4          0         0          0     1.197502         1        1         1   \n",
      "\n",
      "   violent Score  violent HR  violent B  violent HP  \n",
      "0      -1.054664           0          0           0  \n",
      "1      -1.091737           0          0           0  \n",
      "2      -0.736812           0          0           0  \n",
      "3      -0.957802           0          0           0  \n",
      "4      -1.051731           0          0           0  \n"
     ]
    }
   ],
   "source": [
    "# Set display option to show all columns\n",
    "pd.set_option('display.max_columns', None)\n",
    "\n",
    "# get results table\n",
    "print(small_results_df)"
   ]
  },
  {
   "cell_type": "code",
   "execution_count": 27,
   "metadata": {},
   "outputs": [
    {
     "name": "stdout",
     "output_type": "stream",
     "text": [
      "Index(['id', 'Text', 'binary Score', 'binary HR', 'binary B', 'binary HP',\n",
      "       'hateful Score', 'hateful HR', 'hateful B', 'hateful HP',\n",
      "       'harassment Score', 'harassment HR', 'harassment B', 'harassment HP',\n",
      "       'public_harm Score', 'public_harm HR', 'public_harm B',\n",
      "       'public_harm HP', 'self_harm Score', 'self_harm HR', 'self_harm B',\n",
      "       'self_harm HP', 'sexual Score', 'sexual HR', 'sexual B', 'sexual HP',\n",
      "       'toxic Score', 'toxic HR', 'toxic B', 'toxic HP', 'violent Score',\n",
      "       'violent HR', 'violent B', 'violent HP'],\n",
      "      dtype='object')\n"
     ]
    }
   ],
   "source": [
    "# See column names\n",
    "print(small_results_df.columns)"
   ]
  },
  {
   "cell_type": "markdown",
   "metadata": {},
   "source": [
    "## Hateful and Toxic Scores"
   ]
  },
  {
   "cell_type": "code",
   "execution_count": 28,
   "metadata": {},
   "outputs": [],
   "source": [
    "# get id, hateful and toxic scores only\n",
    "condensed_small_results_df = small_results_df[['id', 'hateful Score', 'toxic Score']]"
   ]
  },
  {
   "cell_type": "code",
   "execution_count": 29,
   "metadata": {},
   "outputs": [
    {
     "data": {
      "text/html": [
       "<div>\n",
       "<style scoped>\n",
       "    .dataframe tbody tr th:only-of-type {\n",
       "        vertical-align: middle;\n",
       "    }\n",
       "\n",
       "    .dataframe tbody tr th {\n",
       "        vertical-align: top;\n",
       "    }\n",
       "\n",
       "    .dataframe thead th {\n",
       "        text-align: right;\n",
       "    }\n",
       "</style>\n",
       "<table border=\"1\" class=\"dataframe\">\n",
       "  <thead>\n",
       "    <tr style=\"text-align: right;\">\n",
       "      <th></th>\n",
       "      <th>id</th>\n",
       "      <th>hateful Score</th>\n",
       "      <th>toxic Score</th>\n",
       "    </tr>\n",
       "  </thead>\n",
       "  <tbody>\n",
       "    <tr>\n",
       "      <th>0</th>\n",
       "      <td>fn3gbrg</td>\n",
       "      <td>-0.582897</td>\n",
       "      <td>-0.419336</td>\n",
       "    </tr>\n",
       "    <tr>\n",
       "      <th>1</th>\n",
       "      <td>fmau5k3</td>\n",
       "      <td>-1.116735</td>\n",
       "      <td>-1.869360</td>\n",
       "    </tr>\n",
       "    <tr>\n",
       "      <th>2</th>\n",
       "      <td>fhp05xc</td>\n",
       "      <td>-1.027191</td>\n",
       "      <td>-0.798018</td>\n",
       "    </tr>\n",
       "    <tr>\n",
       "      <th>3</th>\n",
       "      <td>fsu4fyd</td>\n",
       "      <td>-0.419287</td>\n",
       "      <td>1.119167</td>\n",
       "    </tr>\n",
       "    <tr>\n",
       "      <th>4</th>\n",
       "      <td>gap4vkl</td>\n",
       "      <td>-0.952112</td>\n",
       "      <td>1.197502</td>\n",
       "    </tr>\n",
       "  </tbody>\n",
       "</table>\n",
       "</div>"
      ],
      "text/plain": [
       "        id  hateful Score  toxic Score\n",
       "0  fn3gbrg      -0.582897    -0.419336\n",
       "1  fmau5k3      -1.116735    -1.869360\n",
       "2  fhp05xc      -1.027191    -0.798018\n",
       "3  fsu4fyd      -0.419287     1.119167\n",
       "4  gap4vkl      -0.952112     1.197502"
      ]
     },
     "execution_count": 29,
     "metadata": {},
     "output_type": "execute_result"
    }
   ],
   "source": [
    "condensed_small_results_df"
   ]
  },
  {
   "cell_type": "markdown",
   "metadata": {},
   "source": [
    "## New dataframe with hateful and toxic scores"
   ]
  },
  {
   "cell_type": "code",
   "execution_count": 30,
   "metadata": {},
   "outputs": [],
   "source": [
    "# merge the 2 dataframes on 'id'\n",
    "small_hateful_and_toxic_results_df = pd.merge(small_reddit_df, condensed_small_results_df, on='id', how='inner')"
   ]
  },
  {
   "cell_type": "code",
   "execution_count": 31,
   "metadata": {},
   "outputs": [
    {
     "name": "stdout",
     "output_type": "stream",
     "text": [
      "                                                text            timestamp  \\\n",
      "0  i think most singaporeans dont give a damn who...  2020-04-11 15:49:23   \n",
      "1  fair point the secrecy aspect of it slipped my...  2020-04-03 09:59:08   \n",
      "2                                              range  2020-02-15 15:07:03   \n",
      "3  gt this is binary thinking because you think t...  2020-06-04 07:07:39   \n",
      "4                                boo boo poor u lmao  2020-10-31 13:52:12   \n",
      "\n",
      "            username                                               link  \\\n",
      "0           invigo79  /r/singapore/comments/fz7vtl/im_quite_interest...   \n",
      "1  potatetoe_tractor  /r/singapore/comments/fu3axm/government_to_tab...   \n",
      "2     CrossfittJesus  /r/singapore/comments/f4ac70/what_is_ps_defens...   \n",
      "3            nomad80   /r/singapore/comments/gw55cx/notoracism/fsu4fyd/   \n",
      "4            pirorok  /r/singapore/comments/jl6abo/rsingapore_random...   \n",
      "\n",
      "     link_id   parent_id       id subreddit_id  \\\n",
      "0  t3_fz7vtl   t3_fz7vtl  fn3gbrg     t5_2qh8c   \n",
      "1  t3_fu3axm  t1_fmasya5  fmau5k3     t5_2qh8c   \n",
      "2  t3_f4ac70   t3_f4ac70  fhp05xc     t5_2qh8c   \n",
      "3  t3_gw55cx  t1_fsu3dsf  fsu4fyd     t5_2qh8c   \n",
      "4  t3_jl6abo  t1_gap4e9y  gap4vkl     t5_2qh8c   \n",
      "\n",
      "                                        moderation\\r  hateful Score  \\\n",
      "0  {'removal_reason': None, 'collapsed': False, '...      -0.582897   \n",
      "1  {'removal_reason': None, 'collapsed': False, '...      -1.116735   \n",
      "2  {'removal_reason': None, 'collapsed': False, '...      -1.027191   \n",
      "3  {'removal_reason': None, 'collapsed': False, '...      -0.419287   \n",
      "4  {'removal_reason': None, 'collapsed': False, '...      -0.952112   \n",
      "\n",
      "   toxic Score  \n",
      "0    -0.419336  \n",
      "1    -1.869360  \n",
      "2    -0.798018  \n",
      "3     1.119167  \n",
      "4     1.197502  \n"
     ]
    }
   ],
   "source": [
    "print(small_hateful_and_toxic_results_df)"
   ]
  },
  {
   "cell_type": "markdown",
   "metadata": {},
   "source": [
    "# 4. Quick Analysis"
   ]
  },
  {
   "cell_type": "code",
   "execution_count": 33,
   "metadata": {},
   "outputs": [
    {
     "data": {
      "text/html": [
       "<div>\n",
       "<style scoped>\n",
       "    .dataframe tbody tr th:only-of-type {\n",
       "        vertical-align: middle;\n",
       "    }\n",
       "\n",
       "    .dataframe tbody tr th {\n",
       "        vertical-align: top;\n",
       "    }\n",
       "\n",
       "    .dataframe thead th {\n",
       "        text-align: right;\n",
       "    }\n",
       "</style>\n",
       "<table border=\"1\" class=\"dataframe\">\n",
       "  <thead>\n",
       "    <tr style=\"text-align: right;\">\n",
       "      <th></th>\n",
       "      <th>text</th>\n",
       "      <th>hateful Score</th>\n",
       "      <th>toxic Score</th>\n",
       "    </tr>\n",
       "  </thead>\n",
       "  <tbody>\n",
       "    <tr>\n",
       "      <th>0</th>\n",
       "      <td>i think most singaporeans dont give a damn who taiwan belong to</td>\n",
       "      <td>-0.582897</td>\n",
       "      <td>-0.419336</td>\n",
       "    </tr>\n",
       "    <tr>\n",
       "      <th>1</th>\n",
       "      <td>fair point the secrecy aspect of it slipped my mind</td>\n",
       "      <td>-1.116735</td>\n",
       "      <td>-1.869360</td>\n",
       "    </tr>\n",
       "    <tr>\n",
       "      <th>2</th>\n",
       "      <td>range</td>\n",
       "      <td>-1.027191</td>\n",
       "      <td>-0.798018</td>\n",
       "    </tr>\n",
       "    <tr>\n",
       "      <th>3</th>\n",
       "      <td>gt this is binary thinking because you think that im inherently blind and because of the majority privilege\\n\\ngt this demonstrates your inability to accept opposing views and have no choice but to resort to using ad hominem by casting me into an opposing the others group making it a black and white binary argument in order to have an attempt in giving supposed strength to your argument\\n\\nwell this is clearly very complicated for you but to bring this back to where i came in the idea of normalizing edmws tone amp tenor just because you think it is anywhere commendable that they bash anyone outside their approved groups\\n\\nto which all i said was \\n\\ngt racist against everyone sounds the worst cesspool of assholes then\\n\\nany other place this would be a open shut point but and here we are with your spirited defense of this mindset</td>\n",
       "      <td>-0.419287</td>\n",
       "      <td>1.119167</td>\n",
       "    </tr>\n",
       "    <tr>\n",
       "      <th>4</th>\n",
       "      <td>boo boo poor u lmao</td>\n",
       "      <td>-0.952112</td>\n",
       "      <td>1.197502</td>\n",
       "    </tr>\n",
       "  </tbody>\n",
       "</table>\n",
       "</div>"
      ],
      "text/plain": [
       "                                                                                                                                                                                                                                                                                                                                                                                                                                                                                                                                                                                                                                                                                                                                                                                                                                                                         text  \\\n",
       "0                                                                                                                                                                                                                                                                                                                                                                                                                                                                                                                                                                                                                                                                                                                                                                                                             i think most singaporeans dont give a damn who taiwan belong to   \n",
       "1                                                                                                                                                                                                                                                                                                                                                                                                                                                                                                                                                                                                                                                                                                                                                                                                                         fair point the secrecy aspect of it slipped my mind   \n",
       "2                                                                                                                                                                                                                                                                                                                                                                                                                                                                                                                                                                                                                                                                                                                                                                                                                                                                       range   \n",
       "3  gt this is binary thinking because you think that im inherently blind and because of the majority privilege\\n\\ngt this demonstrates your inability to accept opposing views and have no choice but to resort to using ad hominem by casting me into an opposing the others group making it a black and white binary argument in order to have an attempt in giving supposed strength to your argument\\n\\nwell this is clearly very complicated for you but to bring this back to where i came in the idea of normalizing edmws tone amp tenor just because you think it is anywhere commendable that they bash anyone outside their approved groups\\n\\nto which all i said was \\n\\ngt racist against everyone sounds the worst cesspool of assholes then\\n\\nany other place this would be a open shut point but and here we are with your spirited defense of this mindset   \n",
       "4                                                                                                                                                                                                                                                                                                                                                                                                                                                                                                                                                                                                                                                                                                                                                                                                                                                         boo boo poor u lmao   \n",
       "\n",
       "   hateful Score  toxic Score  \n",
       "0      -0.582897    -0.419336  \n",
       "1      -1.116735    -1.869360  \n",
       "2      -1.027191    -0.798018  \n",
       "3      -0.419287     1.119167  \n",
       "4      -0.952112     1.197502  "
      ]
     },
     "execution_count": 33,
     "metadata": {},
     "output_type": "execute_result"
    }
   ],
   "source": [
    "# expand resolution to see full text\n",
    "pd.set_option('display.max_colwidth', None)\n",
    "\n",
    "small_hateful_and_toxic_results_df[['text', 'hateful Score', 'toxic Score']]"
   ]
  },
  {
   "cell_type": "markdown",
   "metadata": {},
   "source": [
    "Scores can range is [-1,1], where 1 is positive, -1 is negative in that metric. Overall, hatefulness and toxicity are correlated. However, the last 2 text data say otherwise, Lionguard predicts them as not hateful, but toxic. The last 2 texts also show that the longer text is more hateful, but less toxic than the shorter text."
   ]
  }
 ],
 "metadata": {
  "kernelspec": {
   "display_name": "venv",
   "language": "python",
   "name": "python3"
  },
  "language_info": {
   "codemirror_mode": {
    "name": "ipython",
    "version": 3
   },
   "file_extension": ".py",
   "mimetype": "text/x-python",
   "name": "python",
   "nbconvert_exporter": "python",
   "pygments_lexer": "ipython3",
   "version": "3.12.7"
  }
 },
 "nbformat": 4,
 "nbformat_minor": 2
}
